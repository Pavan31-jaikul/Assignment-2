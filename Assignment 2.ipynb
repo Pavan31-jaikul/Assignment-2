{
 "cells": [
  {
   "cell_type": "code",
   "execution_count": 1,
   "metadata": {},
   "outputs": [],
   "source": [
    "def myreduce(func, seq):\n",
    "  res = seq[0]\n",
    "  for i in seq[1:]:\n",
    "   res = func(res, i)\n",
    "  return res"
   ]
  },
  {
   "cell_type": "code",
   "execution_count": 2,
   "metadata": {},
   "outputs": [
    {
     "name": "stdout",
     "output_type": "stream",
     "text": [
      "24\n"
     ]
    }
   ],
   "source": [
    "res = myreduce((lambda a, b: a * b), [1, 2, 3, 4])\n",
    "print(res)"
   ]
  },
  {
   "cell_type": "code",
   "execution_count": 3,
   "metadata": {},
   "outputs": [],
   "source": [
    "def myfilter(func, seq):\n",
    "    res = []\n",
    "    for i in seq:\n",
    "        if func(i):\n",
    "            res.append(i)\n",
    "    return res"
   ]
  },
  {
   "cell_type": "code",
   "execution_count": 4,
   "metadata": {},
   "outputs": [
    {
     "data": {
      "text/plain": [
       "[5, 10, 15, 20, 25, 30, 35, 40, 45, 50, 55, 60, 65, 70, 75, 80, 85, 90, 95]"
      ]
     },
     "execution_count": 4,
     "metadata": {},
     "output_type": "execute_result"
    }
   ],
   "source": [
    "myfilter(lambda x:x % 5==0 ,range(1,100))"
   ]
  },
  {
   "cell_type": "code",
   "execution_count": 5,
   "metadata": {},
   "outputs": [
    {
     "name": "stdout",
     "output_type": "stream",
     "text": [
      "['A', 'C', 'A', 'D', 'G', 'I', 'L', 'D']\n",
      "['x', 'xx', 'xxx', 'xxxx', 'y', 'yy', 'yyy', 'yyyy', 'z', 'zz', 'zzz', 'zzzz']\n",
      "['x', 'y', 'z', 'xx', 'yy', 'zz', 'xxx', 'yyy', 'zzz', 'xxxx', 'yyyy', 'zzzz']\n",
      "[[2], [3], [4], [3], [4], [5], [4], [5], [6]]\n",
      "[[2, 3, 4, 5], [3, 4, 5, 6], [4, 5, 6, 7], [5, 6, 7, 8]]\n",
      "[(1, 1), (2, 1), (3, 1), (1, 2), (2, 2), (3, 2), (1, 3), (2, 3), (3, 3)]\n"
     ]
    }
   ],
   "source": [
    "a=\"ACADGILD\"\n",
    "print(list(a))\n",
    "b = ['x','y','z']\n",
    "result = [ i*n for i in b for n in range(1,5)  ]\n",
    "print(str(result))\n",
    "c = ['x','y','z']\n",
    "res = [ i*n for n in range(1,5) for i in c  ]\n",
    "print(str(res))\n",
    "d = [2,3,4]\n",
    "res = [ [i+n] for i in d for n in range(0,3)]\n",
    "print(str(res))\n",
    "e = [2,3,4,5]\n",
    "res = [ [i+n for i in e] for n in range(0,4)  ]\n",
    "print(str(res))\n",
    "f=[1,2,3]\n",
    "res = [ (b,a) for a in f for b in f]\n",
    "print(str(res))\n",
    "\n"
   ]
  },
  {
   "cell_type": "code",
   "execution_count": 6,
   "metadata": {},
   "outputs": [
    {
     "name": "stdout",
     "output_type": "stream",
     "text": [
      "jaikul\n"
     ]
    }
   ],
   "source": [
    "def longestWord(Words):\n",
    "    word = []\n",
    "    for n in Words:\n",
    "        word.append((len(n), n))\n",
    "    word.sort()\n",
    "    return word[-1][1]\n",
    "print(longestWord([\"jaikul\",\"pavan\",\"ganesh\"]))"
   ]
  },
  {
   "cell_type": "code",
   "execution_count": null,
   "metadata": {},
   "outputs": [],
   "source": []
  },
  {
   "cell_type": "code",
   "execution_count": 7,
   "metadata": {},
   "outputs": [
    {
     "name": "stdout",
     "output_type": "stream",
     "text": [
      " Area of triangle  =  9.922\n"
     ]
    }
   ],
   "source": [
    "def Sides(a, b, c):\n",
    "    Perimeter = a + b + c\n",
    "    s = (a + b + c) / 2\n",
    "    Area = ((s*(s-a)*(s-b)*(s-c))) ** 0.5\n",
    "    print(\" Area of triangle  =  %0.3f\" % Area)\n",
    "\n",
    "Sides(4,5,6)"
   ]
  },
  {
   "cell_type": "code",
   "execution_count": 8,
   "metadata": {},
   "outputs": [
    {
     "name": "stdout",
     "output_type": "stream",
     "text": [
      "['Jaikul', 'Ganesh']\n"
     ]
    }
   ],
   "source": [
    "def longwords(n, str):\n",
    "    length = []\n",
    "    text = str.split(\" \")\n",
    "    for x in text:\n",
    "        if len(x) > n:\n",
    "            length.append(x)\n",
    "    return length\n",
    "print(longwords(5, \"My name is Jaikul Pavan Ganesh\"))"
   ]
  },
  {
   "cell_type": "code",
   "execution_count": 9,
   "metadata": {},
   "outputs": [
    {
     "name": "stdout",
     "output_type": "stream",
     "text": [
      "[3, 4, 6, 4]\n"
     ]
    }
   ],
   "source": [
    "Words = ['bat','ball','gloves','pads']\n",
    "integers = []\n",
    "for i in range(len(Words)):\n",
    "    integers.append(len(Words[i]))\n",
    "print (str(integers))\n",
    " "
   ]
  }
 ],
 "metadata": {
  "kernelspec": {
   "display_name": "Python 3",
   "language": "python",
   "name": "python3"
  },
  "language_info": {
   "codemirror_mode": {
    "name": "ipython",
    "version": 3
   },
   "file_extension": ".py",
   "mimetype": "text/x-python",
   "name": "python",
   "nbconvert_exporter": "python",
   "pygments_lexer": "ipython3",
   "version": "3.7.4"
  }
 },
 "nbformat": 4,
 "nbformat_minor": 2
}
